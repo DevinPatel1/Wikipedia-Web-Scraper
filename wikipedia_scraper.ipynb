{
 "cells": [
  {
   "cell_type": "markdown",
   "metadata": {},
   "source": [
    "# Wikipedia Article Scraper\n",
    "\n",
    "Author:  Devin Patel  \n",
    "Purpose: To scrape a random selection wikipedia articles."
   ]
  },
  {
   "cell_type": "markdown",
   "metadata": {},
   "source": [
    "## Scraper"
   ]
  },
  {
   "cell_type": "code",
   "execution_count": 1,
   "metadata": {
    "tags": []
   },
   "outputs": [],
   "source": [
    "# Imports\n",
    "from bs4 import BeautifulSoup   # For HTML parsing\n",
    "import requests                 # HTTP requests\n",
    "import re                       # Regular expressions"
   ]
  },
  {
   "cell_type": "code",
   "execution_count": 2,
   "metadata": {
    "tags": []
   },
   "outputs": [],
   "source": [
    "# Request wikipedia page and return main content\n",
    "# Returns tuple (page_title, {'subsection_title': 'subsection_content'})\n",
    "def wikipage(url):\n",
    "    page_dict = {}\n",
    "    FIRST_SECTION = 'Overview'\n",
    "    \n",
    "    try:\n",
    "    \n",
    "        page = requests.get(url)\n",
    "\n",
    "        # Parse main content portion of page\n",
    "        soop = BeautifulSoup(page.text, 'html')\n",
    "        main_content = soop.find('main', {'id': 'content', 'class': 'mw-body'})\n",
    "        \n",
    "        \n",
    "        # Parse article title\n",
    "        page_title = soop.find('span', {'class': 'mw-page-title-main'}).text\n",
    "        \n",
    "        # Parse subsections\n",
    "        article_contents = main_content.find_all('div', {'class': 'mw-parser-output'})\n",
    "        for content in article_contents:\n",
    "            if not content.find('span', {'typeof': 'mw:File'}):\n",
    "                article_contents = content\n",
    "        \n",
    "        subsections = article_contents.find_all(['h2', 'p'])\n",
    "        \n",
    "        current_section = FIRST_SECTION\n",
    "        \n",
    "        # Read each paragraph, collect them into a dictionary. Stop at Notes section.\n",
    "        for sub in subsections:\n",
    "            # Check if 2nd level header is met. If so, change current section.\n",
    "            if sub.name == 'h2':\n",
    "                if sub.find('span', {'id': 'Notes'}):\n",
    "                    break\n",
    "                \n",
    "                sub_header = sub.find('span', {'class': 'mw-headline'})\n",
    "                current_section = sub_header.text\n",
    "                \n",
    "            \n",
    "            # Check if paragraph is met.\n",
    "            elif sub.name == 'p' and sub.text:\n",
    "                # Remove footnote references using regex\n",
    "                sub_text = re.sub(r'\\[\\d+\\]', '', sub.text).strip()\n",
    "                \n",
    "                # If the paragraph is just whitespace, skip it\n",
    "                if not sub_text: continue\n",
    "                \n",
    "                # Append paragraph to current section\n",
    "                if not current_section in page_dict.keys():\n",
    "                    page_dict[current_section] = sub_text\n",
    "                else:\n",
    "                    page_dict[current_section] += sub_text\n",
    "    \n",
    "    except Exception as e:\n",
    "        return None\n",
    "    # End of for loop\n",
    "    return (page_title, page_dict)\n",
    "# End of wikipage()"
   ]
  },
  {
   "cell_type": "code",
   "execution_count": 3,
   "metadata": {},
   "outputs": [
    {
     "name": "stdout",
     "output_type": "stream",
     "text": [
      "|████████████████████████████████████████████████████████████████████████████████████████████████████| 100.00%\r"
     ]
    }
   ],
   "source": [
    "# Output status bar\n",
    "def progress_bar(progress, total):\n",
    "    percent = 100 * (progress / float(total))\n",
    "    bar = '█' * int(percent) + '-' * (100 - int(percent))\n",
    "    print(f\"\\r|{bar}| {percent:.2f}%\", end=\"\\r\")\n",
    "\n",
    "\n",
    "# Loop and collect a number of random wikipedia pages\n",
    "COUNT = 100\n",
    "RANDOM_URL = 'https://en.wikipedia.org/wiki/Special:Random'\n",
    "\n",
    "# Will contain tuples (page_title, {'subsection_title': 'subsection_content'})\n",
    "articles = []\n",
    "\n",
    "while len(articles) < COUNT:\n",
    "    page = wikipage(RANDOM_URL)\n",
    "    if page and page[1]:\n",
    "        articles.append(page)\n",
    "    progress_bar(len(articles), COUNT)\n"
   ]
  },
  {
   "cell_type": "code",
   "execution_count": 4,
   "metadata": {},
   "outputs": [
    {
     "name": "stdout",
     "output_type": "stream",
     "text": [
      "Article Title: Southern Tagalog 10\n",
      "\n",
      "Overview:\n",
      "\tThe Southern Tagalog 10 was a group of activists abducted and \"disappeared\" in 1977 during martial law in the Philippines under Proclamation No. 1081 issued by President of Philippines Ferdinand E. Marcos. Of the 10 university students and professors who were abducted, only three, Virgilio Silva, Salvador Panganiban, and Modesto Sison, \"surfaced\" later after being killed by suspected agents of the state. Two of those who surfaced were apparently summarily executed. The rest were never found.\n",
      "\n",
      "Background:\n",
      "\tThe victims, most of them in their early twenties, all belonged to a network of community organizations in the Southern Tagalog region, Philippines. They were abducted in late July 1977 at the Makati Medical Center in Metro Manila.The incident is believed to be the single biggest case of involuntary disappearance during martial law. Bonifacio Ilagan, brother of one of the victims and vice chair of Samahan ng Ex-Detainees Laban sa Detensyon at Aresto (an organization that works for the welfare of political detainees), described the abduction as \"the single biggest case of involuntary disappearance and summary execution perpetrated by the Armed Forces of the Philippines in the entire history of the Marcos martial law in the Philippines.\"\n",
      "\n",
      "Members:\n",
      "\tThe ten individuals known as the Southern Tagalog 10 are:The names of Catalla, Faustino, Rizalina Ilagan, Jasul, Sales, and Sison are included on the Bantayog ng mga Bayani's Wall of Remembrance for martyrs and heroes of martial law.\n",
      "\n",
      "In popular culture:\n",
      "\tThe play Pagsambang Bayan (People’s Worship), written by Bonifacio Ilagan, is dedicated to the members of the Southern Tagalog 10. It was first staged in September 1977 at the University of the Philippines (U.P.) by the U.P. Repertory Company under the direction of Behn Cervantes. Its staging led to the arrest of Cervantes and the play's musical director. The play won the Palihang Aurelio V. Tolentino and has since been performed hundreds of times. The Cultural Center of the Philippines (CCP) cites the play as a \"major work in Philippine theater.\" A musical version of the play was staged in 2017 by director Joel Lamangan at the Polytechnic University of the Philippines and the CCP.On television, actress Bianca Umali played Rizalina Ilagan in the GMA Network docudrama Alaala: A Martial Law Special, which first aired on September 17, 2017.\n",
      "\n"
     ]
    }
   ],
   "source": [
    "# Print the contents of a page from wikipage()\n",
    "def print_page(wikipage):\n",
    "    title, page = wikipage[0], wikipage[1]\n",
    "    print(\"Article Title:\", title, end='\\n\\n')\n",
    "    \n",
    "    for sub_title, sub_par in page.items():\n",
    "        print(f\"{sub_title}:\")\n",
    "        print(f\"\\t{sub_par}\\n\")\n",
    "    # End of for loop\n",
    "# End of print_page()\n",
    "\n",
    "# Randomly select an article and print it\n",
    "import random\n",
    "random_article = random.choice(articles)\n",
    "print_page(random_article)"
   ]
  }
 ],
 "metadata": {
  "kernelspec": {
   "display_name": "webscraper-env",
   "language": "python",
   "name": "python3"
  },
  "language_info": {
   "codemirror_mode": {
    "name": "ipython",
    "version": 3
   },
   "file_extension": ".py",
   "mimetype": "text/x-python",
   "name": "python",
   "nbconvert_exporter": "python",
   "pygments_lexer": "ipython3",
   "version": "3.11.4"
  },
  "orig_nbformat": 4
 },
 "nbformat": 4,
 "nbformat_minor": 2
}
