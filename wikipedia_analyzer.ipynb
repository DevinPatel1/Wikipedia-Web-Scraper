{
 "cells": [
  {
   "cell_type": "markdown",
   "metadata": {},
   "source": [
    "# Wikipedia Word Analyzer\n",
    "\n",
    "Author:  Devin Patel  \n",
    "Purpose: To scrape a selection wikipedia articles and perform sentence analysis on it using TextBlob.  \n",
    "\n",
    "Tutorial(s) Followed:\n",
    "- [Scraping Data from a Real Website | Web Scraping in Python](https://www.youtube.com/watch?v=8dTpNajxaH0&list=WL&index=9&t=4s)  "
   ]
  },
  {
   "cell_type": "markdown",
   "metadata": {},
   "source": [
    "## Scraper"
   ]
  },
  {
   "cell_type": "code",
   "execution_count": null,
   "metadata": {},
   "outputs": [],
   "source": [
    "# Imports\n",
    "from bs4 import BeautifulSoup   # For HTML parsing\n",
    "import requests                 # HTTP requests\n",
    "import textblob                 # For sentence analysis"
   ]
  },
  {
   "cell_type": "code",
   "execution_count": null,
   "metadata": {},
   "outputs": [],
   "source": [
    "# Request the page\n",
    "url = 'https://en.wikipedia.org/wiki/Toilet_paper_orientation'\n",
    "\n",
    "page = requests.get(url)\n",
    "\n",
    "# Parse the page\n",
    "soop = BeautifulSoup(page.text, 'html')\n",
    "soop"
   ]
  },
  {
   "cell_type": "code",
   "execution_count": null,
   "metadata": {},
   "outputs": [],
   "source": []
  }
 ],
 "metadata": {
  "kernelspec": {
   "display_name": "webscraper-env",
   "language": "python",
   "name": "python3"
  },
  "language_info": {
   "codemirror_mode": {
    "name": "ipython",
    "version": 3
   },
   "file_extension": ".py",
   "mimetype": "text/x-python",
   "name": "python",
   "nbconvert_exporter": "python",
   "pygments_lexer": "ipython3",
   "version": "3.11.4"
  },
  "orig_nbformat": 4
 },
 "nbformat": 4,
 "nbformat_minor": 2
}
